{
 "cells": [
  {
   "cell_type": "markdown",
   "id": "5e94bdd2",
   "metadata": {},
   "source": [
    "# Ex. 4 Correspondence Analysis\n",
    "##### Dan Schumacher"
   ]
  },
  {
   "cell_type": "code",
   "execution_count": 6,
   "id": "d2f9ff93",
   "metadata": {},
   "outputs": [],
   "source": [
    "import pandas as pd\n",
    "import prince  \n",
    "import matplotlib.pyplot as plt\n",
    "import seaborn as sns\n",
    "from IPython.display import display, Latex,Image, display\n",
    "from scipy.stats import chi2_contingency\n",
    "import numpy as np"
   ]
  },
  {
   "cell_type": "markdown",
   "id": "2eed99aa",
   "metadata": {},
   "source": [
    "## 1. You are analyzing the relationship between race and pizza for women for a market research firm."
   ]
  },
  {
   "cell_type": "markdown",
   "id": "b4440b60",
   "metadata": {},
   "source": [
    "## Data Cleaning and Set Up"
   ]
  },
  {
   "cell_type": "code",
   "execution_count": 7,
   "id": "4ffb2070",
   "metadata": {
    "hide_input": true
   },
   "outputs": [],
   "source": [
    "# load data, make sure na values are read\n",
    "df = pd.read_csv('pizzafem truncated.csv', na_values=' ')\n",
    "\n",
    "# rename the columns for my liking\n",
    "df.rename(columns = {'myid':'id','RESP_RACE': 'race'}, inplace=True)\n",
    "\n",
    "#remove missing values\n",
    "df = df.dropna()\n",
    "\n",
    "#convert floats to integers for consistancy\n",
    "df['pizza'] = df['pizza'].astype(int)\n",
    "\n",
    "# I am just making up race mappings to help me think about this less abstractly\n",
    "race_mapping = {\n",
    "    1: 'white', 2: 'black', 3: 'asian', 4: 'other'\n",
    "}\n",
    "\n",
    "# same for pizza\n",
    "pizza_mapping = {\n",
    "    1: 'pizza_hut', 2: 'dominos', 3: 'papa_johns', 4: 'little_ceasers'\n",
    "}\n",
    "\n",
    "# apply the mapping \n",
    "df['race'] = df['race'].map(race_mapping)\n",
    "df['pizza'] = df['pizza'].map(pizza_mapping)"
   ]
  },
  {
   "cell_type": "markdown",
   "id": "20460d05",
   "metadata": {},
   "source": [
    "## 2. Run a correspondence analysis on the data.   Then answer the following questions."
   ]
  },
  {
   "cell_type": "markdown",
   "id": "cdd31d8c",
   "metadata": {},
   "source": [
    "### a.\tShow the contingency table. Examining the table, is it easy to see relationships between race categories and pizza restaurants using this table?  "
   ]
  },
  {
   "cell_type": "code",
   "execution_count": 8,
   "id": "53b798a7",
   "metadata": {
    "hide_input": true
   },
   "outputs": [
    {
     "data": {
      "text/html": [
       "<div>\n",
       "<style scoped>\n",
       "    .dataframe tbody tr th:only-of-type {\n",
       "        vertical-align: middle;\n",
       "    }\n",
       "\n",
       "    .dataframe tbody tr th {\n",
       "        vertical-align: top;\n",
       "    }\n",
       "\n",
       "    .dataframe thead th {\n",
       "        text-align: right;\n",
       "    }\n",
       "</style>\n",
       "<table border=\"1\" class=\"dataframe\">\n",
       "  <thead>\n",
       "    <tr style=\"text-align: right;\">\n",
       "      <th>pizza</th>\n",
       "      <th>dominos</th>\n",
       "      <th>little_ceasers</th>\n",
       "      <th>papa_johns</th>\n",
       "      <th>pizza_hut</th>\n",
       "    </tr>\n",
       "    <tr>\n",
       "      <th>race</th>\n",
       "      <th></th>\n",
       "      <th></th>\n",
       "      <th></th>\n",
       "      <th></th>\n",
       "    </tr>\n",
       "  </thead>\n",
       "  <tbody>\n",
       "    <tr>\n",
       "      <th>asian</th>\n",
       "      <td>33</td>\n",
       "      <td>7</td>\n",
       "      <td>13</td>\n",
       "      <td>27</td>\n",
       "    </tr>\n",
       "    <tr>\n",
       "      <th>black</th>\n",
       "      <td>76</td>\n",
       "      <td>67</td>\n",
       "      <td>30</td>\n",
       "      <td>103</td>\n",
       "    </tr>\n",
       "    <tr>\n",
       "      <th>other</th>\n",
       "      <td>165</td>\n",
       "      <td>139</td>\n",
       "      <td>32</td>\n",
       "      <td>100</td>\n",
       "    </tr>\n",
       "    <tr>\n",
       "      <th>white</th>\n",
       "      <td>508</td>\n",
       "      <td>476</td>\n",
       "      <td>238</td>\n",
       "      <td>560</td>\n",
       "    </tr>\n",
       "  </tbody>\n",
       "</table>\n",
       "</div>"
      ],
      "text/plain": [
       "pizza  dominos  little_ceasers  papa_johns  pizza_hut\n",
       "race                                                 \n",
       "asian       33               7          13         27\n",
       "black       76              67          30        103\n",
       "other      165             139          32        100\n",
       "white      508             476         238        560"
      ]
     },
     "execution_count": 8,
     "metadata": {},
     "output_type": "execute_result"
    }
   ],
   "source": [
    "# Frequency table (cross-tabulation)\n",
    "freq_table = pd.crosstab(df['race'], df['pizza'])\n",
    "freq_table"
   ]
  },
  {
   "cell_type": "markdown",
   "id": "413f620e",
   "metadata": {},
   "source": [
    "### b.\tGenerate and show a table that shows the expected frequencies for each cell."
   ]
  },
  {
   "cell_type": "code",
   "execution_count": 9,
   "id": "49b63a41",
   "metadata": {
    "hide_input": true,
    "scrolled": true
   },
   "outputs": [
    {
     "data": {
      "text/html": [
       "<div>\n",
       "<style scoped>\n",
       "    .dataframe tbody tr th:only-of-type {\n",
       "        vertical-align: middle;\n",
       "    }\n",
       "\n",
       "    .dataframe tbody tr th {\n",
       "        vertical-align: top;\n",
       "    }\n",
       "\n",
       "    .dataframe thead th {\n",
       "        text-align: right;\n",
       "    }\n",
       "</style>\n",
       "<table border=\"1\" class=\"dataframe\">\n",
       "  <thead>\n",
       "    <tr style=\"text-align: right;\">\n",
       "      <th>pizza</th>\n",
       "      <th>dominos</th>\n",
       "      <th>little_ceasers</th>\n",
       "      <th>papa_johns</th>\n",
       "      <th>pizza_hut</th>\n",
       "    </tr>\n",
       "    <tr>\n",
       "      <th>race</th>\n",
       "      <th></th>\n",
       "      <th></th>\n",
       "      <th></th>\n",
       "      <th></th>\n",
       "    </tr>\n",
       "  </thead>\n",
       "  <tbody>\n",
       "    <tr>\n",
       "      <th>asian</th>\n",
       "      <td>24.304584</td>\n",
       "      <td>21.414141</td>\n",
       "      <td>9.728050</td>\n",
       "      <td>24.553225</td>\n",
       "    </tr>\n",
       "    <tr>\n",
       "      <th>black</th>\n",
       "      <td>83.850816</td>\n",
       "      <td>73.878788</td>\n",
       "      <td>33.561772</td>\n",
       "      <td>84.708625</td>\n",
       "    </tr>\n",
       "    <tr>\n",
       "      <th>other</th>\n",
       "      <td>132.459984</td>\n",
       "      <td>116.707071</td>\n",
       "      <td>53.017871</td>\n",
       "      <td>133.815074</td>\n",
       "    </tr>\n",
       "    <tr>\n",
       "      <th>white</th>\n",
       "      <td>541.384615</td>\n",
       "      <td>477.000000</td>\n",
       "      <td>216.692308</td>\n",
       "      <td>546.923077</td>\n",
       "    </tr>\n",
       "  </tbody>\n",
       "</table>\n",
       "</div>"
      ],
      "text/plain": [
       "pizza     dominos  little_ceasers  papa_johns   pizza_hut\n",
       "race                                                     \n",
       "asian   24.304584       21.414141    9.728050   24.553225\n",
       "black   83.850816       73.878788   33.561772   84.708625\n",
       "other  132.459984      116.707071   53.017871  133.815074\n",
       "white  541.384615      477.000000  216.692308  546.923077"
      ]
     },
     "execution_count": 9,
     "metadata": {},
     "output_type": "execute_result"
    }
   ],
   "source": [
    "# row and column totals\n",
    "row_totals = freq_table.sum(axis=1)\n",
    "column_totals = freq_table.sum(axis=0)\n",
    "\n",
    "# grand total\n",
    "grand_total = row_totals.sum()\n",
    "\n",
    "# expected frequencies\n",
    "expected_freq = pd.DataFrame(\n",
    "    [(row * column_totals) / grand_total for row in row_totals],\n",
    "    index = freq_table.index,\n",
    "    columns = freq_table.columns\n",
    ")\n",
    "\n",
    "expected_freq"
   ]
  },
  {
   "cell_type": "markdown",
   "id": "fcc5b7e0",
   "metadata": {},
   "source": [
    "### c.\tGenerate and show a table that shows the chi square contribution to the total chi square for the table for each cell in the contingency table.  Which cell contributes the most to the total chi square?  Which cell contributes the least to the total chi square for the table?"
   ]
  },
  {
   "cell_type": "code",
   "execution_count": 10,
   "id": "3c240e36",
   "metadata": {
    "hide_input": true,
    "scrolled": false
   },
   "outputs": [
    {
     "data": {
      "text/html": [
       "<div>\n",
       "<style scoped>\n",
       "    .dataframe tbody tr th:only-of-type {\n",
       "        vertical-align: middle;\n",
       "    }\n",
       "\n",
       "    .dataframe tbody tr th {\n",
       "        vertical-align: top;\n",
       "    }\n",
       "\n",
       "    .dataframe thead th {\n",
       "        text-align: right;\n",
       "    }\n",
       "</style>\n",
       "<table border=\"1\" class=\"dataframe\">\n",
       "  <thead>\n",
       "    <tr style=\"text-align: right;\">\n",
       "      <th>pizza</th>\n",
       "      <th>dominos</th>\n",
       "      <th>little_ceasers</th>\n",
       "      <th>papa_johns</th>\n",
       "      <th>pizza_hut</th>\n",
       "    </tr>\n",
       "    <tr>\n",
       "      <th>race</th>\n",
       "      <th></th>\n",
       "      <th></th>\n",
       "      <th></th>\n",
       "      <th></th>\n",
       "    </tr>\n",
       "  </thead>\n",
       "  <tbody>\n",
       "    <tr>\n",
       "      <th>asian</th>\n",
       "      <td>8.695416</td>\n",
       "      <td>-14.414141</td>\n",
       "      <td>3.271950</td>\n",
       "      <td>2.446775</td>\n",
       "    </tr>\n",
       "    <tr>\n",
       "      <th>black</th>\n",
       "      <td>-7.850816</td>\n",
       "      <td>-6.878788</td>\n",
       "      <td>-3.561772</td>\n",
       "      <td>18.291375</td>\n",
       "    </tr>\n",
       "    <tr>\n",
       "      <th>other</th>\n",
       "      <td>32.540016</td>\n",
       "      <td>22.292929</td>\n",
       "      <td>-21.017871</td>\n",
       "      <td>-33.815074</td>\n",
       "    </tr>\n",
       "    <tr>\n",
       "      <th>white</th>\n",
       "      <td>-33.384615</td>\n",
       "      <td>-1.000000</td>\n",
       "      <td>21.307692</td>\n",
       "      <td>13.076923</td>\n",
       "    </tr>\n",
       "  </tbody>\n",
       "</table>\n",
       "</div>"
      ],
      "text/plain": [
       "pizza    dominos  little_ceasers  papa_johns  pizza_hut\n",
       "race                                                   \n",
       "asian   8.695416      -14.414141    3.271950   2.446775\n",
       "black  -7.850816       -6.878788   -3.561772  18.291375\n",
       "other  32.540016       22.292929  -21.017871 -33.815074\n",
       "white -33.384615       -1.000000   21.307692  13.076923"
      ]
     },
     "execution_count": 10,
     "metadata": {},
     "output_type": "execute_result"
    }
   ],
   "source": [
    "dif_table = freq_table - expected_freq\n",
    "dif_table"
   ]
  },
  {
   "cell_type": "markdown",
   "id": "f521748d",
   "metadata": {},
   "source": [
    "##### The Most\n",
    "- asian / little_ceasors | **(9.702349)**\n",
    "- other / papa_johns | **(8.332113)**"
   ]
  },
  {
   "cell_type": "markdown",
   "id": "71af1ba8",
   "metadata": {},
   "source": [
    "##### The Least\n",
    "- white / little_ceasors | **(0.002096)**\n",
    "- asian / pizza_hut      | **(0.243826)**"
   ]
  },
  {
   "cell_type": "code",
   "execution_count": 11,
   "id": "edce27a5",
   "metadata": {
    "scrolled": false
   },
   "outputs": [
    {
     "data": {
      "text/html": [
       "<div>\n",
       "<style scoped>\n",
       "    .dataframe tbody tr th:only-of-type {\n",
       "        vertical-align: middle;\n",
       "    }\n",
       "\n",
       "    .dataframe tbody tr th {\n",
       "        vertical-align: top;\n",
       "    }\n",
       "\n",
       "    .dataframe thead th {\n",
       "        text-align: right;\n",
       "    }\n",
       "</style>\n",
       "<table border=\"1\" class=\"dataframe\">\n",
       "  <thead>\n",
       "    <tr style=\"text-align: right;\">\n",
       "      <th>pizza</th>\n",
       "      <th>dominos</th>\n",
       "      <th>little_ceasers</th>\n",
       "      <th>papa_johns</th>\n",
       "      <th>pizza_hut</th>\n",
       "    </tr>\n",
       "    <tr>\n",
       "      <th>race</th>\n",
       "      <th></th>\n",
       "      <th></th>\n",
       "      <th></th>\n",
       "      <th></th>\n",
       "    </tr>\n",
       "  </thead>\n",
       "  <tbody>\n",
       "    <tr>\n",
       "      <th>asian</th>\n",
       "      <td>3.110946</td>\n",
       "      <td>9.702349</td>\n",
       "      <td>1.100494</td>\n",
       "      <td>0.243826</td>\n",
       "    </tr>\n",
       "    <tr>\n",
       "      <th>black</th>\n",
       "      <td>0.735059</td>\n",
       "      <td>0.640478</td>\n",
       "      <td>0.377996</td>\n",
       "      <td>3.949709</td>\n",
       "    </tr>\n",
       "    <tr>\n",
       "      <th>other</th>\n",
       "      <td>7.993755</td>\n",
       "      <td>4.258308</td>\n",
       "      <td>8.332113</td>\n",
       "      <td>8.545070</td>\n",
       "    </tr>\n",
       "    <tr>\n",
       "      <th>white</th>\n",
       "      <td>2.058671</td>\n",
       "      <td>0.002096</td>\n",
       "      <td>2.095219</td>\n",
       "      <td>0.312669</td>\n",
       "    </tr>\n",
       "  </tbody>\n",
       "</table>\n",
       "</div>"
      ],
      "text/plain": [
       "pizza   dominos  little_ceasers  papa_johns  pizza_hut\n",
       "race                                                  \n",
       "asian  3.110946        9.702349    1.100494   0.243826\n",
       "black  0.735059        0.640478    0.377996   3.949709\n",
       "other  7.993755        4.258308    8.332113   8.545070\n",
       "white  2.058671        0.002096    2.095219   0.312669"
      ]
     },
     "execution_count": 11,
     "metadata": {},
     "output_type": "execute_result"
    }
   ],
   "source": [
    "chisquare = ( ( freq_table - expected_freq ) **2 ) / expected_freq\n",
    "chisquare"
   ]
  },
  {
   "cell_type": "markdown",
   "id": "5963699e",
   "metadata": {},
   "source": [
    "### d.\tUsing the total chi square for the table, calculate the degrees of freedom for the total chi square, find the critical value in the chi square table for those degrees of freedom and state the total chi square for the table from part c above.  Can you reject the null hypothesis that there is no relationship between race and pizza restaurant?"
   ]
  },
  {
   "cell_type": "markdown",
   "id": "44fe2415",
   "metadata": {},
   "source": [
    "- DF = ( `#r - 1` * `#c - 1`)\n",
    "- r = 4,\n",
    "- c = 4\n",
    "- therfore DF = 9"
   ]
  },
  {
   "cell_type": "code",
   "execution_count": 12,
   "id": "da10f621",
   "metadata": {},
   "outputs": [
    {
     "data": {
      "image/png": "[encoded data removed]",
      "text/plain": [
       "<IPython.core.display.Image object>"
      ]
     },
     "metadata": {},
     "output_type": "display_data"
    }
   ],
   "source": [
    "chi = 'chi-square.png'\n",
    "# Display the chi-square table\n",
    "display(Image(chi))"
   ]
  },
  {
   "cell_type": "code",
   "execution_count": 13,
   "id": "e0c206a0",
   "metadata": {
    "scrolled": true
   },
   "outputs": [
    {
     "name": "stdout",
     "output_type": "stream",
     "text": [
      "Reject H0, Accept Halt: A relationship exist between the pizza and race\n"
     ]
    }
   ],
   "source": [
    "test_stat = chisquare.sum().sum()\n",
    "critical_val = 16.919\n",
    "\n",
    "if test_stat < critical_val:\n",
    "    print('Do not reject H0: No relationship between pizza and race')\n",
    "else:\n",
    "    print('Reject H0, Accept Halt: A relationship exist between the pizza and race')"
   ]
  },
  {
   "cell_type": "code",
   "execution_count": 14,
   "id": "6e274a81",
   "metadata": {},
   "outputs": [
    {
     "name": "stdout",
     "output_type": "stream",
     "text": [
      "Reject H0, Accept Halt: A relationship exist between the pizza and race\n"
     ]
    }
   ],
   "source": [
    "# another way that scipy handels automatically\n",
    "test_stat, p_val, degrees_freedom, arr = chi2_contingency(freq_table)\n",
    "\n",
    "alpha = .05\n",
    "if p_val > alpha:\n",
    "    print('Do not reject H0: No relationship between pizza and race')\n",
    "else:\n",
    "    print('Reject H0, Accept Halt: A relationship exist between the pizza and race')"
   ]
  },
  {
   "cell_type": "markdown",
   "id": "6ee276be",
   "metadata": {},
   "source": [
    "### e.\tGenerate and show row and column tables for mass, inertia and quality.  Which row has the highest inertia?  Which column has the highest quality?"
   ]
  },
  {
   "cell_type": "markdown",
   "id": "5ae23209",
   "metadata": {},
   "source": [
    "- The asian row has the highest inertia\n",
    "- The papa_johns col has the highest quality"
   ]
  },
  {
   "cell_type": "code",
   "execution_count": 15,
   "id": "49948ce1",
   "metadata": {
    "hide_input": true
   },
   "outputs": [
    {
     "data": {
      "text/html": [
       "<div>\n",
       "<style scoped>\n",
       "    .dataframe tbody tr th:only-of-type {\n",
       "        vertical-align: middle;\n",
       "    }\n",
       "\n",
       "    .dataframe tbody tr th {\n",
       "        vertical-align: top;\n",
       "    }\n",
       "\n",
       "    .dataframe thead th {\n",
       "        text-align: right;\n",
       "    }\n",
       "</style>\n",
       "<table border=\"1\" class=\"dataframe\">\n",
       "  <thead>\n",
       "    <tr style=\"text-align: right;\">\n",
       "      <th></th>\n",
       "      <th>quality</th>\n",
       "      <th>mass</th>\n",
       "      <th>inertia</th>\n",
       "    </tr>\n",
       "  </thead>\n",
       "  <tbody>\n",
       "    <tr>\n",
       "      <th>asian</th>\n",
       "      <td>8.508775</td>\n",
       "      <td>0.031080</td>\n",
       "      <td>0.963716</td>\n",
       "    </tr>\n",
       "    <tr>\n",
       "      <th>black</th>\n",
       "      <td>0.436162</td>\n",
       "      <td>0.107226</td>\n",
       "      <td>0.071025</td>\n",
       "    </tr>\n",
       "    <tr>\n",
       "      <th>other</th>\n",
       "      <td>3.210988</td>\n",
       "      <td>0.169386</td>\n",
       "      <td>0.816968</td>\n",
       "    </tr>\n",
       "    <tr>\n",
       "      <th>white</th>\n",
       "      <td>0.103954</td>\n",
       "      <td>0.692308</td>\n",
       "      <td>0.148291</td>\n",
       "    </tr>\n",
       "  </tbody>\n",
       "</table>\n",
       "</div>"
      ],
      "text/plain": [
       "        quality      mass   inertia\n",
       "asian  8.508775  0.031080  0.963716\n",
       "black  0.436162  0.107226  0.071025\n",
       "other  3.210988  0.169386  0.816968\n",
       "white  0.103954  0.692308  0.148291"
      ]
     },
     "execution_count": 15,
     "metadata": {},
     "output_type": "execute_result"
    }
   ],
   "source": [
    "import prince\n",
    "\n",
    "# Fitting the CA model\n",
    "ca = prince.CA(\n",
    "    n_components=2,\n",
    "    n_iter=3,\n",
    "    copy=True,\n",
    "    check_input=True,\n",
    "    engine='sklearn',\n",
    "    random_state=42\n",
    ").fit(freq_table)\n",
    "\n",
    "# The row coordinates\n",
    "row_coords = ca.row_coordinates(freq_table)\n",
    "\n",
    "# The masses of the row points\n",
    "row_masses = ca.row_masses_\n",
    "\n",
    "# The contributions of the rows to the inertia\n",
    "row_contributions = ca.row_contributions_\n",
    "\n",
    "# Calculating quality for each row\n",
    "total_inertia = ca.total_inertia_\n",
    "row_quality = row_coords.apply(lambda x: (x**2).sum() / total_inertia, axis=1)\n",
    "\n",
    "import pandas as pd\n",
    "\n",
    "# Make sure that each component is a pandas Series\n",
    "row_quality_series = pd.Series(row_quality, name='quality')\n",
    "row_masses_series = pd.Series(row_masses, name='mass')\n",
    "#row_contributions_series = pd.Series(row_contributions, name='inertia')\n",
    "\n",
    "# Now, create the DataFrame\n",
    "row_stats = pd.DataFrame({\n",
    "    'quality': row_quality_series,\n",
    "    'mass': row_masses_series,\n",
    "    'inertia': row_contributions[0] +  row_contributions[1]\n",
    "})\n",
    "\n",
    "row_stats = pd.DataFrame(row_stats)\n",
    "row_stats"
   ]
  },
  {
   "cell_type": "code",
   "execution_count": 16,
   "id": "5850dbc4",
   "metadata": {
    "hide_input": true
   },
   "outputs": [
    {
     "data": {
      "text/html": [
       "<div>\n",
       "<style scoped>\n",
       "    .dataframe tbody tr th:only-of-type {\n",
       "        vertical-align: middle;\n",
       "    }\n",
       "\n",
       "    .dataframe tbody tr th {\n",
       "        vertical-align: top;\n",
       "    }\n",
       "\n",
       "    .dataframe thead th {\n",
       "        text-align: right;\n",
       "    }\n",
       "</style>\n",
       "<table border=\"1\" class=\"dataframe\">\n",
       "  <thead>\n",
       "    <tr style=\"text-align: right;\">\n",
       "      <th></th>\n",
       "      <th>quality</th>\n",
       "      <th>mass</th>\n",
       "      <th>inertia</th>\n",
       "    </tr>\n",
       "  </thead>\n",
       "  <tbody>\n",
       "    <tr>\n",
       "      <th>dominos</th>\n",
       "      <td>0.855753</td>\n",
       "      <td>0.303807</td>\n",
       "      <td>0.696192</td>\n",
       "    </tr>\n",
       "    <tr>\n",
       "      <th>little_ceasers</th>\n",
       "      <td>1.016442</td>\n",
       "      <td>0.267677</td>\n",
       "      <td>0.717370</td>\n",
       "    </tr>\n",
       "    <tr>\n",
       "      <th>papa_johns</th>\n",
       "      <td>1.462810</td>\n",
       "      <td>0.121601</td>\n",
       "      <td>0.263541</td>\n",
       "    </tr>\n",
       "    <tr>\n",
       "      <th>pizza_hut</th>\n",
       "      <td>0.707509</td>\n",
       "      <td>0.306915</td>\n",
       "      <td>0.322897</td>\n",
       "    </tr>\n",
       "  </tbody>\n",
       "</table>\n",
       "</div>"
      ],
      "text/plain": [
       "                 quality      mass   inertia\n",
       "dominos         0.855753  0.303807  0.696192\n",
       "little_ceasers  1.016442  0.267677  0.717370\n",
       "papa_johns      1.462810  0.121601  0.263541\n",
       "pizza_hut       0.707509  0.306915  0.322897"
      ]
     },
     "execution_count": 16,
     "metadata": {},
     "output_type": "execute_result"
    }
   ],
   "source": [
    "import prince\n",
    "\n",
    "# The row coordinates\n",
    "col_coords = ca.column_coordinates(freq_table)\n",
    "\n",
    "# The masses of the row points\n",
    "col_masses = ca.col_masses_\n",
    "\n",
    "# The contributions of the rows to the inertia\n",
    "col_contributions = ca.column_contributions_\n",
    "\n",
    "# Calculating quality for each row\n",
    "total_inertia = ca.total_inertia_\n",
    "col_quality = col_coords.apply(lambda x: (x**2).sum() / total_inertia, axis=1)\n",
    "\n",
    "# Make sure that each component is a pandas Series\n",
    "col_quality_series = pd.Series(col_quality, name='quality')\n",
    "col_masses_series = pd.Series(col_masses, name='mass')\n",
    "#row_contributions_series = pd.Series(row_contributions, name='inertia')\n",
    "\n",
    "# Now, create the DataFrame\n",
    "col_stats = pd.DataFrame({\n",
    "    'quality': col_quality_series,\n",
    "    'mass': col_masses_series,\n",
    "    'inertia': col_contributions[0] +  col_contributions[1]\n",
    "})\n",
    "\n",
    "col_stats = pd.DataFrame(col_stats)\n",
    "col_stats"
   ]
  },
  {
   "cell_type": "markdown",
   "id": "f1e52768",
   "metadata": {},
   "source": [
    "### f.\tGenerate and show the correspondence map for this analysis.  What proportion of the variance does dimension 1 explain?  What proportion of the variance does dimension 2 explain?"
   ]
  },
  {
   "cell_type": "code",
   "execution_count": 17,
   "id": "f2b3f6c9",
   "metadata": {
    "hide_input": true
   },
   "outputs": [
    {
     "name": "stdout",
     "output_type": "stream",
     "text": [
      "Dimension 1 explains 67.96% of the variance.\n",
      "Dimension 2 explains 24.75% of the variance.\n",
      "Together they explain 92.71% of the variance\n"
     ]
    }
   ],
   "source": [
    "print(f'Dimension 1 explains {ca.percentage_of_variance_[0]:.2f}% of the variance.')\n",
    "print(f'Dimension 2 explains {ca.percentage_of_variance_[1]:.2f}% of the variance.')\n",
    "print(f'Together they explain {ca.percentage_of_variance_[0] + ca.percentage_of_variance_[1]:.2f}% of the variance')"
   ]
  },
  {
   "cell_type": "code",
   "execution_count": 18,
   "id": "b5d06656",
   "metadata": {
    "hide_input": true,
    "scrolled": false
   },
   "outputs": [
    {
     "data": {
      "image/png": "[encoded data removed]",
      "text/plain": [
       "<Figure size 720x432 with 1 Axes>"
      ]
     },
     "metadata": {
      "needs_background": "light"
     },
     "output_type": "display_data"
    }
   ],
   "source": [
    "# Get row and column coordinates\n",
    "row_coordinates = ca.row_coordinates(freq_table)\n",
    "column_coordinates = ca.column_coordinates(freq_table)\n",
    "\n",
    "# Plot\n",
    "fig, ax = plt.subplots(figsize=(10, 6))\n",
    "\n",
    "# Rows\n",
    "for i, label in enumerate(row_coordinates.index):\n",
    "    ax.scatter(\n",
    "        row_coordinates[0][i],\n",
    "        row_coordinates[1][i],\n",
    "        color='blue'\n",
    "    )\n",
    "    \n",
    "    ax.text(\n",
    "        row_coordinates[0][i],\n",
    "        row_coordinates[1][i],\n",
    "        label\n",
    "    )\n",
    "\n",
    "# Columns\n",
    "for i, label in enumerate(column_coordinates.index):\n",
    "    ax.scatter(\n",
    "        column_coordinates[0][i],\n",
    "        column_coordinates[1][i],\n",
    "        color='red'\n",
    "    )\n",
    "    \n",
    "    ax.text(\n",
    "        column_coordinates[0][i],\n",
    "        column_coordinates[1][i],\n",
    "        label\n",
    "    )\n",
    "\n",
    "plt.xlabel('Dimension 1')\n",
    "plt.ylabel('Dimension 2')\n",
    "plt.title('Correspondence Analysis')\n",
    "plt.grid(True)\n",
    "plt.show()"
   ]
  },
  {
   "cell_type": "markdown",
   "id": "32ff3825",
   "metadata": {},
   "source": [
    "### g.\tFind an example in the correspondence plot where the angle between row and column values suggests a strong association – draw the lines from the origin to these two points on the plot."
   ]
  },
  {
   "cell_type": "code",
   "execution_count": 19,
   "id": "f004281c",
   "metadata": {
    "hide_input": true,
    "scrolled": false
   },
   "outputs": [
    {
     "data": {
      "image/png": "[encoded data removed]",
      "text/plain": [
       "<IPython.core.display.Image object>"
      ]
     },
     "metadata": {},
     "output_type": "display_data"
    }
   ],
   "source": [
    "markedup = 'plotplot.png'\n",
    "# Display the chi-square table\n",
    "display(Image(markedup))"
   ]
  },
  {
   "cell_type": "markdown",
   "id": "e1399d1c",
   "metadata": {},
   "source": [
    "### h.\tGenerate and show the standardized adjusted residuals for each of the cells in the contingency table.  Which of these cells passes the test suggested by Sharpe for contributing significantly to the total chi square?"
   ]
  },
  {
   "cell_type": "code",
   "execution_count": 20,
   "id": "234be324",
   "metadata": {
    "hide_input": false,
    "scrolled": false
   },
   "outputs": [
    {
     "data": {
      "text/html": [
       "<div>\n",
       "<style scoped>\n",
       "    .dataframe tbody tr th:only-of-type {\n",
       "        vertical-align: middle;\n",
       "    }\n",
       "\n",
       "    .dataframe tbody tr th {\n",
       "        vertical-align: top;\n",
       "    }\n",
       "\n",
       "    .dataframe thead th {\n",
       "        text-align: right;\n",
       "    }\n",
       "</style>\n",
       "<table border=\"1\" class=\"dataframe\">\n",
       "  <thead>\n",
       "    <tr style=\"text-align: right;\">\n",
       "      <th>pizza</th>\n",
       "      <th>dominos</th>\n",
       "      <th>little_ceasers</th>\n",
       "      <th>papa_johns</th>\n",
       "      <th>pizza_hut</th>\n",
       "    </tr>\n",
       "    <tr>\n",
       "      <th>race</th>\n",
       "      <th></th>\n",
       "      <th></th>\n",
       "      <th></th>\n",
       "      <th></th>\n",
       "    </tr>\n",
       "  </thead>\n",
       "  <tbody>\n",
       "    <tr>\n",
       "      <th>asian</th>\n",
       "      <td>2.147522</td>\n",
       "      <td>-3.852266</td>\n",
       "      <td>1.228141</td>\n",
       "      <td>1.069272</td>\n",
       "    </tr>\n",
       "    <tr>\n",
       "      <th>black</th>\n",
       "      <td>-1.043885</td>\n",
       "      <td>-0.989760</td>\n",
       "      <td>-0.719777</td>\n",
       "      <td>4.303592</td>\n",
       "    </tr>\n",
       "    <tr>\n",
       "      <th>other</th>\n",
       "      <td>3.442443</td>\n",
       "      <td>2.552092</td>\n",
       "      <td>-3.379341</td>\n",
       "      <td>-6.330038</td>\n",
       "    </tr>\n",
       "    <tr>\n",
       "      <th>white</th>\n",
       "      <td>-1.746967</td>\n",
       "      <td>-0.056626</td>\n",
       "      <td>1.694607</td>\n",
       "      <td>1.210852</td>\n",
       "    </tr>\n",
       "  </tbody>\n",
       "</table>\n",
       "</div>"
      ],
      "text/plain": [
       "pizza   dominos  little_ceasers  papa_johns  pizza_hut\n",
       "race                                                  \n",
       "asian  2.147522       -3.852266    1.228141   1.069272\n",
       "black -1.043885       -0.989760   -0.719777   4.303592\n",
       "other  3.442443        2.552092   -3.379341  -6.330038\n",
       "white -1.746967       -0.056626    1.694607   1.210852"
      ]
     },
     "execution_count": 20,
     "metadata": {},
     "output_type": "execute_result"
    }
   ],
   "source": [
    "# to make readability\n",
    "obs = freq_table\n",
    "exp = expected_freq\n",
    "\n",
    "# avoid div by 0\n",
    "exp[exp == 0] = np.nan\n",
    "\n",
    "# row/ col rows for prop\n",
    "row_totals = freq_table.sum(axis=1)\n",
    "column_totals = freq_table.sum(axis=0)\n",
    "\n",
    "# all counts\n",
    "grand_total = freq_table.values.sum()\\\n",
    "\n",
    "# props\n",
    "row_prop = np.array(row_totals / grand_total)\n",
    "col_prop = np.array(column_totals / grand_total)\n",
    "\n",
    "# big ugly calc\n",
    "std_res = (obs - exp)/ (np.sqrt(exp * ( 1 - row_prop) * (1- col_prop)))\n",
    "\n",
    "#show it\n",
    "std_res"
   ]
  },
  {
   "cell_type": "markdown",
   "id": "f710853f",
   "metadata": {},
   "source": [
    "- the following cells pass the test suggested by Sharpe \n",
    "- we want the abs_val of the std residual to be greater than 2."
   ]
  },
  {
   "cell_type": "code",
   "execution_count": 23,
   "id": "a5c605ab",
   "metadata": {},
   "outputs": [
    {
     "data": {
      "text/html": [
       "<div>\n",
       "<style scoped>\n",
       "    .dataframe tbody tr th:only-of-type {\n",
       "        vertical-align: middle;\n",
       "    }\n",
       "\n",
       "    .dataframe tbody tr th {\n",
       "        vertical-align: top;\n",
       "    }\n",
       "\n",
       "    .dataframe thead th {\n",
       "        text-align: right;\n",
       "    }\n",
       "</style>\n",
       "<table border=\"1\" class=\"dataframe\">\n",
       "  <thead>\n",
       "    <tr style=\"text-align: right;\">\n",
       "      <th>pizza</th>\n",
       "      <th>dominos</th>\n",
       "      <th>little_ceasers</th>\n",
       "      <th>papa_johns</th>\n",
       "      <th>pizza_hut</th>\n",
       "    </tr>\n",
       "    <tr>\n",
       "      <th>race</th>\n",
       "      <th></th>\n",
       "      <th></th>\n",
       "      <th></th>\n",
       "      <th></th>\n",
       "    </tr>\n",
       "  </thead>\n",
       "  <tbody>\n",
       "    <tr>\n",
       "      <th>asian</th>\n",
       "      <td>True</td>\n",
       "      <td>True</td>\n",
       "      <td>False</td>\n",
       "      <td>False</td>\n",
       "    </tr>\n",
       "    <tr>\n",
       "      <th>black</th>\n",
       "      <td>False</td>\n",
       "      <td>False</td>\n",
       "      <td>False</td>\n",
       "      <td>True</td>\n",
       "    </tr>\n",
       "    <tr>\n",
       "      <th>other</th>\n",
       "      <td>True</td>\n",
       "      <td>True</td>\n",
       "      <td>True</td>\n",
       "      <td>True</td>\n",
       "    </tr>\n",
       "    <tr>\n",
       "      <th>white</th>\n",
       "      <td>False</td>\n",
       "      <td>False</td>\n",
       "      <td>False</td>\n",
       "      <td>False</td>\n",
       "    </tr>\n",
       "  </tbody>\n",
       "</table>\n",
       "</div>"
      ],
      "text/plain": [
       "pizza  dominos  little_ceasers  papa_johns  pizza_hut\n",
       "race                                                 \n",
       "asian     True            True       False      False\n",
       "black    False           False       False       True\n",
       "other     True            True        True       True\n",
       "white    False           False       False      False"
      ]
     },
     "execution_count": 23,
     "metadata": {},
     "output_type": "execute_result"
    }
   ],
   "source": [
    "import numpy as np\n",
    "#show it\n",
    "np.abs(std_res) > 2"
   ]
  }
 ],
 "metadata": {
  "hide_input": false,
  "kernelspec": {
   "display_name": "Python 3 (ipykernel)",
   "language": "python",
   "name": "python3"
  },
  "language_info": {
   "codemirror_mode": {
    "name": "ipython",
    "version": 3
   },
   "file_extension": ".py",
   "mimetype": "text/x-python",
   "name": "python",
   "nbconvert_exporter": "python",
   "pygments_lexer": "ipython3",
   "version": "3.9.12"
  }
 },
 "nbformat": 4,
 "nbformat_minor": 5
}
