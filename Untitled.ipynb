{
 "cells": [
  {
   "cell_type": "markdown",
   "id": "5e94bdd2",
   "metadata": {},
   "source": [
    "# Ex. 4 Correspondence Analysis\n",
    "##### Dan Schumacher"
   ]
  },
  {
   "cell_type": "code",
   "execution_count": 143,
   "id": "d2f9ff93",
   "metadata": {},
   "outputs": [],
   "source": [
    "import pandas as pd\n",
    "import prince  \n",
    "import matplotlib.pyplot as plt\n",
    "import seaborn as sns\n",
    "from IPython.display import display, Latex,Image, display"
   ]
  },
  {
   "cell_type": "markdown",
   "id": "2eed99aa",
   "metadata": {},
   "source": [
    "## 1. You are analyzing the relationship between race and pizza for women for a market research firm."
   ]
  },
  {
   "cell_type": "markdown",
   "id": "b4440b60",
   "metadata": {},
   "source": [
    "## Data Cleaning and Set Up"
   ]
  },
  {
   "cell_type": "code",
   "execution_count": 131,
   "id": "4ffb2070",
   "metadata": {},
   "outputs": [],
   "source": [
    "# load data, make sure na values are read\n",
    "df = pd.read_csv('pizzafem truncated.csv', na_values=' ')\n",
    "\n",
    "# rename the columns for my liking\n",
    "df.rename(columns = {'myid':'id','RESP_RACE': 'race'}, inplace=True)\n",
    "\n",
    "#remove missing values\n",
    "df = df.dropna()\n",
    "\n",
    "#convert floats to integers for consistancy\n",
    "df['pizza'] = df['pizza'].astype(int)\n",
    "\n",
    "# I am just making up race mappings to help me think about this less abstractly\n",
    "race_mapping = {\n",
    "    1: 'white', 2: 'black', 3: 'asian', 4: 'other'\n",
    "}\n",
    "\n",
    "\n",
    "# same for pizza\n",
    "pizza_mapping = {\n",
    "    1: 'pizza_hut', 2: 'dominos', 3: 'papa_johns', 4: 'little_ceasers'\n",
    "}\n",
    "\n",
    "# apply the mapping \n",
    "df['race'] = df['race'].map(race_mapping)\n",
    "df['pizza'] = df['pizza'].map(pizza_mapping)"
   ]
  },
  {
   "cell_type": "markdown",
   "id": "20460d05",
   "metadata": {},
   "source": [
    "## 2. Run a correspondence analysis on the data.   Then answer the following questions."
   ]
  },
  {
   "cell_type": "markdown",
   "id": "cdd31d8c",
   "metadata": {},
   "source": [
    "### a.\tShow the contingency table. Examining the table, is it easy to see relationships between race categories and pizza restaurants using this table?  "
   ]
  },
  {
   "cell_type": "code",
   "execution_count": 132,
   "id": "53b798a7",
   "metadata": {},
   "outputs": [
    {
     "data": {
      "text/html": [
       "<div>\n",
       "<style scoped>\n",
       "    .dataframe tbody tr th:only-of-type {\n",
       "        vertical-align: middle;\n",
       "    }\n",
       "\n",
       "    .dataframe tbody tr th {\n",
       "        vertical-align: top;\n",
       "    }\n",
       "\n",
       "    .dataframe thead th {\n",
       "        text-align: right;\n",
       "    }\n",
       "</style>\n",
       "<table border=\"1\" class=\"dataframe\">\n",
       "  <thead>\n",
       "    <tr style=\"text-align: right;\">\n",
       "      <th>pizza</th>\n",
       "      <th>dominos</th>\n",
       "      <th>little_ceasers</th>\n",
       "      <th>papa_johns</th>\n",
       "      <th>pizza_hut</th>\n",
       "    </tr>\n",
       "    <tr>\n",
       "      <th>race</th>\n",
       "      <th></th>\n",
       "      <th></th>\n",
       "      <th></th>\n",
       "      <th></th>\n",
       "    </tr>\n",
       "  </thead>\n",
       "  <tbody>\n",
       "    <tr>\n",
       "      <th>asian</th>\n",
       "      <td>33</td>\n",
       "      <td>7</td>\n",
       "      <td>13</td>\n",
       "      <td>27</td>\n",
       "    </tr>\n",
       "    <tr>\n",
       "      <th>black</th>\n",
       "      <td>76</td>\n",
       "      <td>67</td>\n",
       "      <td>30</td>\n",
       "      <td>103</td>\n",
       "    </tr>\n",
       "    <tr>\n",
       "      <th>other</th>\n",
       "      <td>165</td>\n",
       "      <td>139</td>\n",
       "      <td>32</td>\n",
       "      <td>100</td>\n",
       "    </tr>\n",
       "    <tr>\n",
       "      <th>white</th>\n",
       "      <td>508</td>\n",
       "      <td>476</td>\n",
       "      <td>238</td>\n",
       "      <td>560</td>\n",
       "    </tr>\n",
       "  </tbody>\n",
       "</table>\n",
       "</div>"
      ],
      "text/plain": [
       "pizza  dominos  little_ceasers  papa_johns  pizza_hut\n",
       "race                                                 \n",
       "asian       33               7          13         27\n",
       "black       76              67          30        103\n",
       "other      165             139          32        100\n",
       "white      508             476         238        560"
      ]
     },
     "execution_count": 132,
     "metadata": {},
     "output_type": "execute_result"
    }
   ],
   "source": [
    "# Frequency table (cross-tabulation)\n",
    "freq_table = pd.crosstab(df['race'], df['pizza'])\n",
    "\n",
    "freq_table"
   ]
  },
  {
   "cell_type": "markdown",
   "id": "413f620e",
   "metadata": {},
   "source": [
    "### b.\tGenerate and show a table that shows the expected frequencies for each cell."
   ]
  },
  {
   "cell_type": "code",
   "execution_count": 133,
   "id": "49b63a41",
   "metadata": {
    "scrolled": true
   },
   "outputs": [
    {
     "data": {
      "text/html": [
       "<div>\n",
       "<style scoped>\n",
       "    .dataframe tbody tr th:only-of-type {\n",
       "        vertical-align: middle;\n",
       "    }\n",
       "\n",
       "    .dataframe tbody tr th {\n",
       "        vertical-align: top;\n",
       "    }\n",
       "\n",
       "    .dataframe thead th {\n",
       "        text-align: right;\n",
       "    }\n",
       "</style>\n",
       "<table border=\"1\" class=\"dataframe\">\n",
       "  <thead>\n",
       "    <tr style=\"text-align: right;\">\n",
       "      <th>pizza</th>\n",
       "      <th>dominos</th>\n",
       "      <th>little_ceasers</th>\n",
       "      <th>papa_johns</th>\n",
       "      <th>pizza_hut</th>\n",
       "    </tr>\n",
       "    <tr>\n",
       "      <th>race</th>\n",
       "      <th></th>\n",
       "      <th></th>\n",
       "      <th></th>\n",
       "      <th></th>\n",
       "    </tr>\n",
       "  </thead>\n",
       "  <tbody>\n",
       "    <tr>\n",
       "      <th>asian</th>\n",
       "      <td>24.304584</td>\n",
       "      <td>21.414141</td>\n",
       "      <td>9.728050</td>\n",
       "      <td>24.553225</td>\n",
       "    </tr>\n",
       "    <tr>\n",
       "      <th>black</th>\n",
       "      <td>83.850816</td>\n",
       "      <td>73.878788</td>\n",
       "      <td>33.561772</td>\n",
       "      <td>84.708625</td>\n",
       "    </tr>\n",
       "    <tr>\n",
       "      <th>other</th>\n",
       "      <td>132.459984</td>\n",
       "      <td>116.707071</td>\n",
       "      <td>53.017871</td>\n",
       "      <td>133.815074</td>\n",
       "    </tr>\n",
       "    <tr>\n",
       "      <th>white</th>\n",
       "      <td>541.384615</td>\n",
       "      <td>477.000000</td>\n",
       "      <td>216.692308</td>\n",
       "      <td>546.923077</td>\n",
       "    </tr>\n",
       "  </tbody>\n",
       "</table>\n",
       "</div>"
      ],
      "text/plain": [
       "pizza     dominos  little_ceasers  papa_johns   pizza_hut\n",
       "race                                                     \n",
       "asian   24.304584       21.414141    9.728050   24.553225\n",
       "black   83.850816       73.878788   33.561772   84.708625\n",
       "other  132.459984      116.707071   53.017871  133.815074\n",
       "white  541.384615      477.000000  216.692308  546.923077"
      ]
     },
     "execution_count": 133,
     "metadata": {},
     "output_type": "execute_result"
    }
   ],
   "source": [
    "# row and column totals\n",
    "row_totals = freq_table.sum(axis=1)\n",
    "column_totals = freq_table.sum(axis=0)\n",
    "\n",
    "# grand total\n",
    "grand_total = row_totals.sum()\n",
    "\n",
    "# expected frequencies\n",
    "expected_freq = pd.DataFrame(\n",
    "    [(row * column_totals) / grand_total for row in row_totals],\n",
    "    index = freq_table.index,\n",
    "    columns = freq_table.columns\n",
    ")\n",
    "\n",
    "expected_freq"
   ]
  },
  {
   "cell_type": "markdown",
   "id": "fcc5b7e0",
   "metadata": {},
   "source": [
    "### c.\tGenerate and show a table that shows the chi square contribution to the total chi square for the table for each cell in the contingency table.  Which cell contributes the most to the total chi square?  Which cell contributes the least to the total chi square for the table?"
   ]
  },
  {
   "cell_type": "markdown",
   "id": "f521748d",
   "metadata": {},
   "source": [
    "@$@ for least / great are we looking at absolute values?\n",
    "- asian / pizza_hut the most\n",
    "- asian / dominos the least"
   ]
  },
  {
   "cell_type": "code",
   "execution_count": 134,
   "id": "3c240e36",
   "metadata": {
    "scrolled": true
   },
   "outputs": [
    {
     "data": {
      "text/html": [
       "<div>\n",
       "<style scoped>\n",
       "    .dataframe tbody tr th:only-of-type {\n",
       "        vertical-align: middle;\n",
       "    }\n",
       "\n",
       "    .dataframe tbody tr th {\n",
       "        vertical-align: top;\n",
       "    }\n",
       "\n",
       "    .dataframe thead th {\n",
       "        text-align: right;\n",
       "    }\n",
       "</style>\n",
       "<table border=\"1\" class=\"dataframe\">\n",
       "  <thead>\n",
       "    <tr style=\"text-align: right;\">\n",
       "      <th>pizza</th>\n",
       "      <th>dominos</th>\n",
       "      <th>little_ceasers</th>\n",
       "      <th>papa_johns</th>\n",
       "      <th>pizza_hut</th>\n",
       "    </tr>\n",
       "    <tr>\n",
       "      <th>race</th>\n",
       "      <th></th>\n",
       "      <th></th>\n",
       "      <th></th>\n",
       "      <th></th>\n",
       "    </tr>\n",
       "  </thead>\n",
       "  <tbody>\n",
       "    <tr>\n",
       "      <th>asian</th>\n",
       "      <td>8.695416</td>\n",
       "      <td>-14.414141</td>\n",
       "      <td>3.271950</td>\n",
       "      <td>2.446775</td>\n",
       "    </tr>\n",
       "    <tr>\n",
       "      <th>black</th>\n",
       "      <td>-7.850816</td>\n",
       "      <td>-6.878788</td>\n",
       "      <td>-3.561772</td>\n",
       "      <td>18.291375</td>\n",
       "    </tr>\n",
       "    <tr>\n",
       "      <th>other</th>\n",
       "      <td>32.540016</td>\n",
       "      <td>22.292929</td>\n",
       "      <td>-21.017871</td>\n",
       "      <td>-33.815074</td>\n",
       "    </tr>\n",
       "    <tr>\n",
       "      <th>white</th>\n",
       "      <td>-33.384615</td>\n",
       "      <td>-1.000000</td>\n",
       "      <td>21.307692</td>\n",
       "      <td>13.076923</td>\n",
       "    </tr>\n",
       "  </tbody>\n",
       "</table>\n",
       "</div>"
      ],
      "text/plain": [
       "pizza    dominos  little_ceasers  papa_johns  pizza_hut\n",
       "race                                                   \n",
       "asian   8.695416      -14.414141    3.271950   2.446775\n",
       "black  -7.850816       -6.878788   -3.561772  18.291375\n",
       "other  32.540016       22.292929  -21.017871 -33.815074\n",
       "white -33.384615       -1.000000   21.307692  13.076923"
      ]
     },
     "execution_count": 134,
     "metadata": {},
     "output_type": "execute_result"
    }
   ],
   "source": [
    "dif_table = freq_table - expected_freq\n",
    "dif_table"
   ]
  },
  {
   "cell_type": "code",
   "execution_count": 135,
   "id": "edce27a5",
   "metadata": {
    "scrolled": false
   },
   "outputs": [
    {
     "data": {
      "text/html": [
       "<div>\n",
       "<style scoped>\n",
       "    .dataframe tbody tr th:only-of-type {\n",
       "        vertical-align: middle;\n",
       "    }\n",
       "\n",
       "    .dataframe tbody tr th {\n",
       "        vertical-align: top;\n",
       "    }\n",
       "\n",
       "    .dataframe thead th {\n",
       "        text-align: right;\n",
       "    }\n",
       "</style>\n",
       "<table border=\"1\" class=\"dataframe\">\n",
       "  <thead>\n",
       "    <tr style=\"text-align: right;\">\n",
       "      <th>pizza</th>\n",
       "      <th>dominos</th>\n",
       "      <th>little_ceasers</th>\n",
       "      <th>papa_johns</th>\n",
       "      <th>pizza_hut</th>\n",
       "    </tr>\n",
       "    <tr>\n",
       "      <th>race</th>\n",
       "      <th></th>\n",
       "      <th></th>\n",
       "      <th></th>\n",
       "      <th></th>\n",
       "    </tr>\n",
       "  </thead>\n",
       "  <tbody>\n",
       "    <tr>\n",
       "      <th>asian</th>\n",
       "      <td>3.110946</td>\n",
       "      <td>9.702349</td>\n",
       "      <td>1.100494</td>\n",
       "      <td>0.243826</td>\n",
       "    </tr>\n",
       "    <tr>\n",
       "      <th>black</th>\n",
       "      <td>0.735059</td>\n",
       "      <td>0.640478</td>\n",
       "      <td>0.377996</td>\n",
       "      <td>3.949709</td>\n",
       "    </tr>\n",
       "    <tr>\n",
       "      <th>other</th>\n",
       "      <td>7.993755</td>\n",
       "      <td>4.258308</td>\n",
       "      <td>8.332113</td>\n",
       "      <td>8.545070</td>\n",
       "    </tr>\n",
       "    <tr>\n",
       "      <th>white</th>\n",
       "      <td>2.058671</td>\n",
       "      <td>0.002096</td>\n",
       "      <td>2.095219</td>\n",
       "      <td>0.312669</td>\n",
       "    </tr>\n",
       "  </tbody>\n",
       "</table>\n",
       "</div>"
      ],
      "text/plain": [
       "pizza   dominos  little_ceasers  papa_johns  pizza_hut\n",
       "race                                                  \n",
       "asian  3.110946        9.702349    1.100494   0.243826\n",
       "black  0.735059        0.640478    0.377996   3.949709\n",
       "other  7.993755        4.258308    8.332113   8.545070\n",
       "white  2.058671        0.002096    2.095219   0.312669"
      ]
     },
     "execution_count": 135,
     "metadata": {},
     "output_type": "execute_result"
    }
   ],
   "source": [
    "chisquare = ( ( freq_table - expected_freq ) **2 ) / expected_freq\n",
    "chisquare"
   ]
  },
  {
   "cell_type": "markdown",
   "id": "5963699e",
   "metadata": {},
   "source": [
    "### d.\tUsing the total chi square for the table, calculate the degrees of freedom for the total chi square, find the critical value in the chi square table for those degrees of freedom and state the total chi square for the table from part c above.  Can you reject the null hypothesis that there is no relationship between race and pizza restaurant?"
   ]
  },
  {
   "cell_type": "markdown",
   "id": "44fe2415",
   "metadata": {},
   "source": [
    "- DF = ( `#r - 1` * `#c - 1`)\n",
    "- r = 4,\n",
    "- c = 4\n",
    "- therfore DF = 9"
   ]
  },
  {
   "cell_type": "code",
   "execution_count": 138,
   "id": "da10f621",
   "metadata": {},
   "outputs": [
    {
     "data": {
      "image/png": "[encoded data removed]",
      "text/plain": [
       "<IPython.core.display.Image object>"
      ]
     },
     "metadata": {},
     "output_type": "display_data"
    }
   ],
   "source": [
    "chi = 'chi-square.png'\n",
    "# Display the chi-square table\n",
    "display(Image(chi))"
   ]
  },
  {
   "cell_type": "code",
   "execution_count": 141,
   "id": "e0c206a0",
   "metadata": {
    "scrolled": true
   },
   "outputs": [
    {
     "name": "stdout",
     "output_type": "stream",
     "text": [
      "Reject H0, Accept Halt: A relationship exist between the pizza and race\n"
     ]
    }
   ],
   "source": [
    "# @$@ is this how you do this? \n",
    "test_stat = chisquare.sum().sum()\n",
    "critical_val = 16.919\n",
    "\n",
    "if test_stat < critical_val:\n",
    "    print('Do not reject H0: No relationship between pizza and race')\n",
    "else:\n",
    "    print('Reject H0, Accept Halt: A relationship exist between the pizza and race')"
   ]
  },
  {
   "cell_type": "markdown",
   "id": "6ee276be",
   "metadata": {},
   "source": [
    "### e.\tGenerate and show row and column tables for mass, inertia and quality.  Which row has the highest inertia?  Which column has the highest quality?"
   ]
  },
  {
   "cell_type": "markdown",
   "id": "62bde80f",
   "metadata": {},
   "source": [
    "$$\\text{Row Mass} = \\frac{\\text{Row Sum}}{\\text{Grand Total}}$$\n",
    "---\n",
    "$$\\text{Row Inertia} = \\frac{\\sum (\\text{Chi-square contributions of the row})}{\\text{Total N}}$$\n",
    "---\n",
    "$$\\\\text{Quality of a point} = \\frac{d^2_{\\text{chosen dimensions}}}{d^2_{\\text{maximum dimensions}}}\\$$\n",
    "\n",
    "---------------------\n",
    "\n",
    "$$\\text{Col Mass} = \\frac{\\text{Col Sum}}{\\text{Grand Total}}$$\n",
    "---\n",
    "$$\\text{Col Inertia} = \\frac{\\sum (\\text{Chi-square contributions of the Col})}{\\text{Total N}}$$\n",
    "\n"
   ]
  },
  {
   "cell_type": "code",
   "execution_count": 144,
   "id": "a4ad55a9",
   "metadata": {
    "scrolled": true
   },
   "outputs": [
    {
     "data": {
      "text/latex": [
       "$$\\text{row.mass} = \\frac{\\text{row.sum}}{\\text{grand.total}}$$"
      ],
      "text/plain": [
       "<IPython.core.display.Latex object>"
      ]
     },
     "metadata": {},
     "output_type": "display_data"
    },
    {
     "data": {
      "text/latex": [
       "$$\\text{row.mass} = \\frac{\\text{row.sum}}{\\text{grand.total}}$$"
      ],
      "text/plain": [
       "<IPython.core.display.Latex object>"
      ]
     },
     "metadata": {},
     "output_type": "display_data"
    }
   ],
   "source": [
    "row_mass = r\"$$\\text{row.mass} = \\frac{\\text{row.sum}}{\\text{grand.total}}$$\"\n",
    "\n",
    "display(Latex(row_mass))\n",
    "display(Latex(row_mass))"
   ]
  },
  {
   "cell_type": "markdown",
   "id": "f1e52768",
   "metadata": {},
   "source": [
    "### f.\tGenerate and show the correspondence map for this analysis.  What proportion of the variance does dimension 1 explain?  What proportion of the variance does dimension explain?"
   ]
  },
  {
   "cell_type": "markdown",
   "id": "32ff3825",
   "metadata": {},
   "source": [
    "### g.\tFind an example in the correspondence plot where the angle between row and column values suggests a strong association – draw the lines from the origin to these two points on the plot."
   ]
  },
  {
   "cell_type": "markdown",
   "id": "e1399d1c",
   "metadata": {},
   "source": [
    "### h.\tGenerate and show the standardized adjusted residuals for each of the cells in the contingency table.  Which of these cells passes the test suggested by Sharpe for contributing significantly to the total chi square?"
   ]
  },
  {
   "cell_type": "code",
   "execution_count": 94,
   "id": "bd240bc5",
   "metadata": {},
   "outputs": [],
   "source": [
    "ca = prince.CA(\n",
    "    n_components=2,  \n",
    "    n_iter=3,         \n",
    "    copy=True,\n",
    "    check_input=True,\n",
    "    engine='sklearn', \n",
    "    random_state=27 \n",
    ")\n",
    "\n",
    "# Fit  model\n",
    "ca = ca.fit(freq_table)"
   ]
  },
  {
   "cell_type": "code",
   "execution_count": 100,
   "id": "ad6c3862",
   "metadata": {},
   "outputs": [
    {
     "data": {
      "text/plain": [
       "asian       0.169386\n",
       "black       0.031080\n",
       "hispanic    0.107226\n",
       "white       0.692308\n",
       "dtype: float64"
      ]
     },
     "execution_count": 100,
     "metadata": {},
     "output_type": "execute_result"
    }
   ],
   "source": [
    "ca.row_masses_"
   ]
  },
  {
   "cell_type": "code",
   "execution_count": 99,
   "id": "f22b3756",
   "metadata": {},
   "outputs": [
    {
     "data": {
      "text/plain": [
       "cicis pizza       0.267677\n",
       "dominos           0.306915\n",
       "little-ceasers    0.121601\n",
       "pizza-hut         0.303807\n",
       "dtype: float64"
      ]
     },
     "execution_count": 99,
     "metadata": {},
     "output_type": "execute_result"
    }
   ],
   "source": [
    "ca.col_masses_"
   ]
  },
  {
   "cell_type": "code",
   "execution_count": 92,
   "id": "b5d06656",
   "metadata": {
    "scrolled": false
   },
   "outputs": [
    {
     "data": {
      "image/png": "[encoded data removed]",
      "text/plain": [
       "<Figure size 720x432 with 1 Axes>"
      ]
     },
     "metadata": {},
     "output_type": "display_data"
    }
   ],
   "source": [
    "# Get row and column coordinates\n",
    "row_coordinates = ca.row_coordinates(freq_table)\n",
    "column_coordinates = ca.column_coordinates(freq_table)\n",
    "\n",
    "# Plot\n",
    "fig, ax = plt.subplots(figsize=(10, 6))\n",
    "\n",
    "# Rows\n",
    "for i, label in enumerate(row_coordinates.index):\n",
    "    ax.scatter(\n",
    "        row_coordinates[0][i],\n",
    "        row_coordinates[1][i],\n",
    "        color='blue'\n",
    "    )\n",
    "    \n",
    "    ax.text(\n",
    "        row_coordinates[0][i],\n",
    "        row_coordinates[1][i],\n",
    "        label\n",
    "    )\n",
    "\n",
    "# Columns\n",
    "for i, label in enumerate(column_coordinates.index):\n",
    "    ax.scatter(\n",
    "        column_coordinates[0][i],\n",
    "        column_coordinates[1][i],\n",
    "        color='red'\n",
    "    )\n",
    "    \n",
    "    ax.text(\n",
    "        column_coordinates[0][i],\n",
    "        column_coordinates[1][i],\n",
    "        label\n",
    "    )\n",
    "\n",
    "plt.xlabel('Dimension 1')\n",
    "plt.ylabel('Dimension 2')\n",
    "plt.title('Correspondence Analysis')\n",
    "plt.grid(True)\n",
    "plt.show()\n"
   ]
  },
  {
   "cell_type": "code",
   "execution_count": null,
   "id": "8baa1bc3",
   "metadata": {},
   "outputs": [],
   "source": []
  }
 ],
 "metadata": {
  "hide_input": false,
  "kernelspec": {
   "display_name": "Python 3 (ipykernel)",
   "language": "python",
   "name": "python3"
  },
  "language_info": {
   "codemirror_mode": {
    "name": "ipython",
    "version": 3
   },
   "file_extension": ".py",
   "mimetype": "text/x-python",
   "name": "python",
   "nbconvert_exporter": "python",
   "pygments_lexer": "ipython3",
   "version": "3.9.12"
  }
 },
 "nbformat": 4,
 "nbformat_minor": 5
}
